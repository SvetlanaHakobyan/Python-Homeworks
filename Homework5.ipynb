{
 "cells": [
  {
   "cell_type": "code",
   "execution_count": 18,
   "id": "7ca13b2e",
   "metadata": {},
   "outputs": [
    {
     "data": {
      "text/plain": [
       "[5, 6]"
      ]
     },
     "execution_count": 18,
     "metadata": {},
     "output_type": "execute_result"
    }
   ],
   "source": [
    "## 1\n",
    "def nums_disapeared(lisst):\n",
    "    missings = []\n",
    "    for i in range(1,len(lisst)+1):\n",
    "        if i not in lisst:\n",
    "            missings.append(i)\n",
    "    return missings\n",
    "nums_disapeared([4,3,2,7,8,2,3,1])\n",
    "nums_disapeared([1,1])"
   ]
  },
  {
   "cell_type": "code",
   "execution_count": 24,
   "id": "72262e89",
   "metadata": {},
   "outputs": [
    {
     "data": {
      "text/plain": [
       "['adsdf', 'sfd']"
      ]
     },
     "execution_count": 24,
     "metadata": {},
     "output_type": "execute_result"
    }
   ],
   "source": [
    "## 2\n",
    "def keyboard_row(lisst):\n",
    "    first_row = set(\"qwertyuiop\")\n",
    "    second_row = set(\"asdfghjkl\")\n",
    "    third_row = set(\"zxcvbnm\")\n",
    "    includes = []\n",
    "    for i in lisst:\n",
    "        if set(i.lower()) <= first_row:\n",
    "            includes.append(i)\n",
    "        elif set(i.lower()) <= second_row:\n",
    "            includes.append(i)\n",
    "        elif set(i.lower()) <= third_row:\n",
    "            includes.append(i)\n",
    "    return includes  \n",
    "keyboard_row( [\"Hello\",\"Alaska\",\"Dad\",\"Peace\"])\n",
    "keyboard_row([\"omk\"])\n",
    "keyboard_row([\"adsdf\",\"sfd\"])"
   ]
  },
  {
   "cell_type": "code",
   "execution_count": 57,
   "id": "9d60ae79",
   "metadata": {},
   "outputs": [
    {
     "data": {
      "text/plain": [
       "[[1, 4], [2, 5], [3, 6]]"
      ]
     },
     "execution_count": 57,
     "metadata": {},
     "output_type": "execute_result"
    }
   ],
   "source": [
    "## 3\n",
    "def matrix_transpose(matrix):\n",
    "    transposed = [[0 for i in range(len(matrix))] for j in range(len(matrix[0]))]\n",
    "    for i in range(len(matrix[0])):\n",
    "        for j in range(len(matrix)):\n",
    "            transposed[i][j] = matrix[j][i]\n",
    "    return transposed\n",
    "matrix_transpose([[1,2,3],[4,5,6],[7,8,9]])\n",
    "matrix_transpose([[1,2,3],[4,5,6]])"
   ]
  },
  {
   "cell_type": "code",
   "execution_count": 73,
   "id": "7a808c05",
   "metadata": {},
   "outputs": [
    {
     "data": {
      "text/plain": [
       "[[1, 2, 3, 4]]"
      ]
     },
     "execution_count": 73,
     "metadata": {},
     "output_type": "execute_result"
    }
   ],
   "source": [
    "## 4\n",
    "def reshape_matrix(matrix, rows, cols):\n",
    "    if rows * cols != len(matrix[0])*len(matrix):\n",
    "        return matrix\n",
    "    temp_array = []\n",
    "    reshaped = [[0 for i in range(cols)] for j in range(rows)]\n",
    "    k = 0\n",
    "    for i in range(len(matrix[0])):\n",
    "        for j in range(len(matrix)):\n",
    "            temp_array.append(matrix[i][j])\n",
    "    for i in range(rows):\n",
    "        for j in range(cols):\n",
    "            reshaped[i][j] = temp_array[k]\n",
    "            k += 1\n",
    "    return reshaped\n",
    "reshape_matrix(([[1,2],[3,4]]),1,4)\n",
    "#reshape_matrix(([[1,2],[3,4]]),2,4)"
   ]
  },
  {
   "cell_type": "code",
   "execution_count": 66,
   "id": "49b66b2f",
   "metadata": {},
   "outputs": [
    {
     "data": {
      "text/plain": [
       "0"
      ]
     },
     "execution_count": 66,
     "metadata": {},
     "output_type": "execute_result"
    }
   ],
   "source": [
    "## 5 \n",
    "def battleship(board):\n",
    "    count = 0\n",
    "    rows = len(board)\n",
    "    cols = len(board[0])\n",
    "    for i in range(rows):\n",
    "        for j in range(cols):\n",
    "            if board[i][j] == \"X\":\n",
    "                if (i == 0 or board[i-1][j] == '.') and (j == 0 or board[i][j-1] == '.'):\n",
    "                    count += 1 \n",
    "    return count\n",
    "battleship([[\"X\",\".\",\".\",\"X\"],[\".\",\".\",\".\",\"X\"],[\".\",\".\",\".\",\"X\"]])\n",
    "battleship([[\".\"]])"
   ]
  },
  {
   "cell_type": "code",
   "execution_count": null,
   "id": "099919fa",
   "metadata": {},
   "outputs": [],
   "source": []
  },
  {
   "cell_type": "code",
   "execution_count": null,
   "id": "4158cd53",
   "metadata": {},
   "outputs": [],
   "source": []
  },
  {
   "cell_type": "code",
   "execution_count": null,
   "id": "d9108389",
   "metadata": {},
   "outputs": [],
   "source": []
  }
 ],
 "metadata": {
  "kernelspec": {
   "display_name": "Python 3",
   "language": "python",
   "name": "python3"
  },
  "language_info": {
   "codemirror_mode": {
    "name": "ipython",
    "version": 3
   },
   "file_extension": ".py",
   "mimetype": "text/x-python",
   "name": "python",
   "nbconvert_exporter": "python",
   "pygments_lexer": "ipython3",
   "version": "3.8.8"
  }
 },
 "nbformat": 4,
 "nbformat_minor": 5
}

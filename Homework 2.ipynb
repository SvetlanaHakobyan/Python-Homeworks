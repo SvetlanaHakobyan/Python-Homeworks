{
 "cells": [
  {
   "cell_type": "code",
   "execution_count": 1,
   "id": "4ebd100e",
   "metadata": {},
   "outputs": [
    {
     "name": "stdout",
     "output_type": "stream",
     "text": [
      "5040\n",
      "3\n",
      "63\n"
     ]
    }
   ],
   "source": [
    "## 1\n",
    "\n",
    "def prod_of_digits(number):  \n",
    "    product = 1\n",
    "    while (number != 0):\n",
    "        if (number % 10 == 0):\n",
    "            product = product \n",
    "        else:\n",
    "            product = product * (number % 10)\n",
    "        number = number // 10\n",
    "    return product\n",
    "\n",
    "print(prod_of_digits(45947))\n",
    "print(prod_of_digits(301))\n",
    "print(prod_of_digits(170009))\n"
   ]
  },
  {
   "cell_type": "code",
   "execution_count": 2,
   "id": "31d299dc",
   "metadata": {},
   "outputs": [
    {
     "name": "stdout",
     "output_type": "stream",
     "text": [
      "9\n",
      "81\n",
      "243\n",
      "1\n"
     ]
    }
   ],
   "source": [
    "## 2\n",
    "\n",
    "def largest_power_three(num):\n",
    "    number = 1\n",
    "    while (number <= num):\n",
    "        number = number * 3\n",
    "    return int(number / 3) ## why number exceeds desired result by 3 times?\n",
    "    \n",
    "print(largest_power_three(9))\n",
    "print(largest_power_three(100))\n",
    "print(largest_power_three(500))\n",
    "print(largest_power_three(1))"
   ]
  },
  {
   "cell_type": "code",
   "execution_count": 3,
   "id": "f0ab307b",
   "metadata": {},
   "outputs": [
    {
     "name": "stdout",
     "output_type": "stream",
     "text": [
      "Right Triangle\n",
      "No triangle\n",
      "Obtuse triangle\n",
      "Acute triangle\n"
     ]
    }
   ],
   "source": [
    "## 3 \n",
    "\n",
    "def triangle (a, b, c):\n",
    "    sides = [a, b, c]\n",
    "    sides.sort(reverse = True)\n",
    "    if (sides[0] >= sides[1] + sides[2]):\n",
    "        return \"No triangle\"\n",
    "    elif (sides[0] ** 2 == sides[1] ** 2 + sides[2] ** 2):\n",
    "        return \"Right Triangle\"\n",
    "    elif (sides[0] ** 2 > sides[1] ** 2 + sides[2] ** 2):\n",
    "        return \"Obtuse triangle\"\n",
    "    else :\n",
    "        return \"Acute triangle\"\n",
    "\n",
    "print(triangle(4,3,5))\n",
    "print(triangle(2,1,1))\n",
    "print(triangle(2,7,8))\n",
    "print(triangle(4,4,4))"
   ]
  },
  {
   "cell_type": "code",
   "execution_count": 12,
   "id": "0b8b227a",
   "metadata": {},
   "outputs": [
    {
     "name": "stdout",
     "output_type": "stream",
     "text": [
      "78996\n",
      "39\n",
      "12\n",
      "3\n"
     ]
    }
   ],
   "source": [
    "## 4\n",
    "\n",
    "def root_of_number(number):\n",
    "    print(number)\n",
    "    while number >= 10:\n",
    "        summ = 0\n",
    "        while (number != 0):\n",
    "            summ += number % 10\n",
    "            number = number // 10\n",
    "        print(summ)\n",
    "        number = summ\n",
    "\n",
    "root_of_number(78996)"
   ]
  },
  {
   "cell_type": "code",
   "execution_count": 25,
   "id": "ed33c3b3",
   "metadata": {},
   "outputs": [
    {
     "data": {
      "text/plain": [
       "4"
      ]
     },
     "execution_count": 25,
     "metadata": {},
     "output_type": "execute_result"
    }
   ],
   "source": [
    "## 5 \n",
    "\n",
    "def num_of_divisors(number):\n",
    "    numm = 0\n",
    "    for i in range(1,number + 1):\n",
    "        if number % i == 0:\n",
    "            numm += 1\n",
    "    return numm\n",
    "num_of_divisors(10)"
   ]
  },
  {
   "cell_type": "code",
   "execution_count": 47,
   "id": "02c1e579",
   "metadata": {},
   "outputs": [
    {
     "name": "stdout",
     "output_type": "stream",
     "text": [
      "Non quadratic equation\n",
      "One solution : 0.5\n",
      "Quadratic equation\n",
      "Discriminant = -20.0\n",
      "No Solutions\n",
      "Non quadratic equation\n",
      "No Solutions\n",
      "Quadratic equation\n",
      "Discriminant = 4\n",
      "Two Solutions: -1 1\n",
      "Non quadratic equation\n",
      "Infinite Solutions\n"
     ]
    }
   ],
   "source": [
    "## 6\n",
    "import math as math\n",
    "def quadratic(a, b, c):\n",
    "    D = b ** 2 - 4 * a * c\n",
    "    if (a == 0) and (b != 0):\n",
    "        sol = -c / b\n",
    "        print(\"Non quadratic equation\", F\"One solution : {sol}\", sep='\\n')\n",
    "    elif (a == 0) and (b == 0) and (c == 0):\n",
    "        print(\"Non quadratic equation\", \"Infinite Solutions\", sep='\\n')\n",
    "    elif (a == 0) and (b == 0):\n",
    "        print(\"Non quadratic equation\", \"No Solutions\", sep='\\n')\n",
    "    elif D < 0:\n",
    "         print(\"Quadratic equation\",F\"Discriminant = {D}\" ,\"No Solutions\", sep='\\n')\n",
    "    else:\n",
    "        sol_1 = int((- b - math.sqrt(D)) / (2 * a))\n",
    "        sol_2 = int((- b + math.sqrt(D)) / (2 * a))\n",
    "        print(\"Quadratic equation\",F\"Discriminant = {D}\",F\"Two Solutions: {sol_1} {sol_2}\", sep='\\n')\n",
    "quadratic(0,-2,1)\n",
    "quadratic(1.5, -2, 4)\n",
    "quadratic(0,0,7)\n",
    "quadratic(1,0,-1)\n",
    "quadratic(0,0,0)"
   ]
  },
  {
   "cell_type": "code",
   "execution_count": null,
   "id": "932d8a88",
   "metadata": {},
   "outputs": [],
   "source": []
  }
 ],
 "metadata": {
  "kernelspec": {
   "display_name": "Python 3",
   "language": "python",
   "name": "python3"
  },
  "language_info": {
   "codemirror_mode": {
    "name": "ipython",
    "version": 3
   },
   "file_extension": ".py",
   "mimetype": "text/x-python",
   "name": "python",
   "nbconvert_exporter": "python",
   "pygments_lexer": "ipython3",
   "version": "3.8.8"
  }
 },
 "nbformat": 4,
 "nbformat_minor": 5
}

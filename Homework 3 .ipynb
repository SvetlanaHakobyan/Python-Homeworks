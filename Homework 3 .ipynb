{
 "cells": [
  {
   "cell_type": "code",
   "execution_count": 128,
   "id": "fb30d27f",
   "metadata": {},
   "outputs": [
    {
     "data": {
      "text/plain": [
       "(73, 919)"
      ]
     },
     "execution_count": 128,
     "metadata": {},
     "output_type": "execute_result"
    }
   ],
   "source": [
    "##1\n",
    "\n",
    "def prime_sum(number):\n",
    "    lisst = []\n",
    "    for i in range(2 , number + 1):\n",
    "        for j in range(2,i):\n",
    "            if i % j == 0:\n",
    "                break\n",
    "        else:\n",
    "            lisst.append(i)\n",
    "    prime_list = lisst\n",
    "    for x in prime_list:\n",
    "        y = number - x\n",
    "        if y in prime_list:\n",
    "            return (x, y)\n",
    "prime_sum(992)"
   ]
  },
  {
   "cell_type": "code",
   "execution_count": 146,
   "id": "b6c81077",
   "metadata": {},
   "outputs": [
    {
     "data": {
      "text/plain": [
       "[8, 9, 11, 22]"
      ]
     },
     "execution_count": 146,
     "metadata": {},
     "output_type": "execute_result"
    }
   ],
   "source": [
    "## 2 \n",
    "\n",
    "def palindromes_win(a,b):\n",
    "    palindromes = []\n",
    "    for j in range(a, b + 1):\n",
    "        inverse = 0\n",
    "        k = j\n",
    "        while k > 0:\n",
    "            inverse = (inverse * 10) + (k % 10)\n",
    "            k = k// 10\n",
    "        if inverse == j:\n",
    "            palindromes.append(j)\n",
    "    return palindromes\n",
    "palindromes_win(8,25)   "
   ]
  },
  {
   "cell_type": "code",
   "execution_count": 158,
   "id": "323d55cf",
   "metadata": {},
   "outputs": [
    {
     "data": {
      "text/plain": [
       "[15, 14, 12, 9, 5]"
      ]
     },
     "execution_count": 158,
     "metadata": {},
     "output_type": "execute_result"
    }
   ],
   "source": [
    "## 3 \n",
    "\n",
    "def suffix_sum(lisst):\n",
    "    b = []\n",
    "    for i in range(0,len(lisst)):\n",
    "        b.append(sum(lisst)-sum(lisst[:i]))\n",
    "    return b\n",
    "suffix_sum([1,2,3,4,5]) "
   ]
  },
  {
   "cell_type": "code",
   "execution_count": 200,
   "id": "461910b3",
   "metadata": {},
   "outputs": [
    {
     "data": {
      "text/plain": [
       "[2, 9, 1]"
      ]
     },
     "execution_count": 200,
     "metadata": {},
     "output_type": "execute_result"
    }
   ],
   "source": [
    "## 4\n",
    "\n",
    "def cyclic_shift(n,k,lisst):\n",
    "    for k in range(0,k):\n",
    "        lisst = lisst[-1:] + lisst[:-1] \n",
    "    return lisst\n",
    "cyclic_shift(3,1000,[9,1,2])"
   ]
  },
  {
   "cell_type": "code",
   "execution_count": 192,
   "id": "327063e8",
   "metadata": {},
   "outputs": [
    {
     "name": "stdout",
     "output_type": "stream",
     "text": [
      "     *\n",
      "    ***\n",
      "   *****\n",
      "  *******\n",
      " *********\n"
     ]
    }
   ],
   "source": [
    "## 5\n",
    "\n",
    "def tree(num):\n",
    "    for i in range(1,num+1,2):\n",
    "        space = int((num - i)/2)\n",
    "        print(\" \" * space,\"*\" * i)\n",
    "tree(9)"
   ]
  },
  {
   "cell_type": "code",
   "execution_count": null,
   "id": "40b473c1",
   "metadata": {},
   "outputs": [],
   "source": []
  }
 ],
 "metadata": {
  "kernelspec": {
   "display_name": "Python 3",
   "language": "python",
   "name": "python3"
  },
  "language_info": {
   "codemirror_mode": {
    "name": "ipython",
    "version": 3
   },
   "file_extension": ".py",
   "mimetype": "text/x-python",
   "name": "python",
   "nbconvert_exporter": "python",
   "pygments_lexer": "ipython3",
   "version": "3.8.8"
  }
 },
 "nbformat": 4,
 "nbformat_minor": 5
}

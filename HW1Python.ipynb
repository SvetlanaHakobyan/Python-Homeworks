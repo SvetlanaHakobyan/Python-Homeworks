{
 "cells": [
  {
   "cell_type": "code",
   "execution_count": 133,
   "id": "b351690a",
   "metadata": {},
   "outputs": [
    {
     "data": {
      "text/plain": [
       "4"
      ]
     },
     "execution_count": 133,
     "metadata": {},
     "output_type": "execute_result"
    }
   ],
   "source": [
    "## HW 1\n",
    "def sum_of_digits(number):\n",
    "    return number % 10 +(number // 10) % 10 + number // 100\n",
    "sum_of_digits(202)"
   ]
  },
  {
   "cell_type": "code",
   "execution_count": 134,
   "id": "82d8d253",
   "metadata": {},
   "outputs": [
    {
     "data": {
      "text/plain": [
       "12.5"
      ]
     },
     "execution_count": 134,
     "metadata": {},
     "output_type": "execute_result"
    }
   ],
   "source": [
    "## HW 2 \n",
    "def area_of_triangle(leng, heigh):\n",
    "    return (leng*heigh) / 2\n",
    "area_of_triangle(5,5)"
   ]
  },
  {
   "cell_type": "code",
   "execution_count": 135,
   "id": "c9761bd1",
   "metadata": {},
   "outputs": [
    {
     "data": {
      "text/plain": [
       "4"
      ]
     },
     "execution_count": 135,
     "metadata": {},
     "output_type": "execute_result"
    }
   ],
   "source": [
    "## HW 3\n",
    "def arithm_prog(a_1,a_2,n):\n",
    "    return a_1 + (n-1)*(a_2 - a_1) \n",
    "arithm_prog(9,4,2)"
   ]
  },
  {
   "cell_type": "code",
   "execution_count": 136,
   "id": "5f15e9fd",
   "metadata": {},
   "outputs": [
    {
     "data": {
      "text/plain": [
       "2"
      ]
     },
     "execution_count": 136,
     "metadata": {},
     "output_type": "execute_result"
    }
   ],
   "source": [
    "## HW 4\n",
    "def cent_from_year(year):\n",
    "    if (year % 100 == 0):\n",
    "        return year // 100\n",
    "    else :\n",
    "        return year // 100 +1 \n",
    "    \n",
    "cent_from_year(200)\n"
   ]
  },
  {
   "cell_type": "code",
   "execution_count": 137,
   "id": "4ce2da97",
   "metadata": {},
   "outputs": [
    {
     "data": {
      "text/plain": [
       "(6, 3)"
      ]
     },
     "execution_count": 137,
     "metadata": {},
     "output_type": "execute_result"
    }
   ],
   "source": [
    "## HW 5\n",
    "def missed_shoots(left,right):\n",
    "    if left % 2 == 0 and right % 2 == 0:\n",
    "        return right, left\n",
    "    else:\n",
    "        return right-1, left-1\n",
    "missed_shoots(4,7)"
   ]
  },
  {
   "cell_type": "code",
   "execution_count": 139,
   "id": "d02fec12",
   "metadata": {},
   "outputs": [
    {
     "name": "stdout",
     "output_type": "stream",
     "text": [
      "(8, 5)\n",
      "(7, 6)\n",
      "(5, 6)\n",
      "(4, 5)\n",
      "(4, 3)\n",
      "(5, 2)\n",
      "(7, 2)\n"
     ]
    }
   ],
   "source": [
    "## HW 6\n",
    "def knight_moves(px,py):\n",
    "    stepx= [2, 1, -1, -2, -2, -1, 1, 2, 2]\n",
    "    stepy = [1, 2, 2, 1, -1, -2, -2, -1, 1]\n",
    "    for i in range(0,7):\n",
    "        if (stepx[i] + px > 8)  or (stepx[i] + px < 1 ) or (stepy[i] + py > 8) or (stepy[i] + py < 1 ):\n",
    "            pass \n",
    "        else: \n",
    "            npx = stepx[i] + px\n",
    "            npy = stepy[i] + py\n",
    "            new_state =  (npx , npy)\n",
    "            print(new_state)\n",
    "    \n",
    "knight_moves(6,4)"
   ]
  },
  {
   "cell_type": "code",
   "execution_count": null,
   "id": "6769d2c6",
   "metadata": {},
   "outputs": [],
   "source": []
  },
  {
   "cell_type": "code",
   "execution_count": null,
   "id": "831296db",
   "metadata": {},
   "outputs": [],
   "source": []
  },
  {
   "cell_type": "code",
   "execution_count": null,
   "id": "8e25ebf2",
   "metadata": {},
   "outputs": [],
   "source": []
  }
 ],
 "metadata": {
  "kernelspec": {
   "display_name": "Python 3",
   "language": "python",
   "name": "python3"
  },
  "language_info": {
   "codemirror_mode": {
    "name": "ipython",
    "version": 3
   },
   "file_extension": ".py",
   "mimetype": "text/x-python",
   "name": "python",
   "nbconvert_exporter": "python",
   "pygments_lexer": "ipython3",
   "version": "3.8.8"
  }
 },
 "nbformat": 4,
 "nbformat_minor": 5
}
